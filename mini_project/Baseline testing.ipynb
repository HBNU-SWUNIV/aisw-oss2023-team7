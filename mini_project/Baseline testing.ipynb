{
 "cells": [
  {
   "cell_type": "code",
   "execution_count": 4,
   "metadata": {},
   "outputs": [
    {
     "data": {
      "application/vnd.jupyter.widget-view+json": {
       "model_id": "1980976ed91c4e95b230ece57d8429a6",
       "version_major": 2,
       "version_minor": 0
      },
      "text/plain": [
       "Image(value=b'', format='jpeg', height='224', width='224')"
      ]
     },
     "metadata": {},
     "output_type": "display_data"
    }
   ],
   "source": [
    "from jetbot import Camera\n",
    "import ipywidgets.widgets as widgets\n",
    "from IPython.display import display\n",
    "import traitlets\n",
    "from jetbot import bgr8_to_jpeg\n",
    "\n",
    "camera = Camera.instance(width = 224, height = 224)\n",
    "image = widgets.Image(format='jpeg', width =224, height =224)\n",
    "display(image)\n",
    "camera_link = traitlets.dlink((camera, 'value'), (image, 'value'), transform= bgr8_to_jpeg)"
   ]
  },
  {
   "cell_type": "code",
   "execution_count": 12,
   "metadata": {},
   "outputs": [],
   "source": [
    "from RGB_Lib import Programing_RGB\n",
    "RGB = Programing_RGB()"
   ]
  },
  {
   "cell_type": "code",
   "execution_count": 17,
   "metadata": {},
   "outputs": [],
   "source": [
    "RGB.Set_WaterfallLight_RGB()"
   ]
  },
  {
   "cell_type": "code",
   "execution_count": 18,
   "metadata": {},
   "outputs": [],
   "source": [
    "RGB.Set_ChameleonLight_RGB()"
   ]
  },
  {
   "cell_type": "code",
   "execution_count": 19,
   "metadata": {},
   "outputs": [],
   "source": [
    "RGB.Set_BreathColor_RGB()"
   ]
  },
  {
   "cell_type": "code",
   "execution_count": 25,
   "metadata": {},
   "outputs": [],
   "source": [
    "RGB.Set_BreathSColor_RGB(4)\n",
    "RGB.Set_BreathSSpeed_RGB(3)\n",
    "RGB.Set_BreathSLight_RGB()"
   ]
  },
  {
   "cell_type": "code",
   "execution_count": 26,
   "metadata": {},
   "outputs": [],
   "source": [
    "RGB.OFF_ALL_RGB()"
   ]
  },
  {
   "cell_type": "code",
   "execution_count": 33,
   "metadata": {},
   "outputs": [
    {
     "data": {
      "application/vnd.jupyter.widget-view+json": {
       "model_id": "7558e763442b44be85ace90d28cc777d",
       "version_major": 2,
       "version_minor": 0
      },
      "text/plain": [
       "Image(value=b'', format='jpeg', height='224', width='224')"
      ]
     },
     "metadata": {},
     "output_type": "display_data"
    },
    {
     "name": "stdin",
     "output_type": "stream",
     "text": [
      "Forward : w, Right : d, Left : a, Back : s, Stop : x w\n",
      "Forward : w, Right : d, Left : a, Back : s, Stop : x x\n"
     ]
    },
    {
     "name": "stdout",
     "output_type": "stream",
     "text": [
      "w Pressed ... \n",
      "x Pressed ... \n"
     ]
    }
   ],
   "source": [
    "import time\n",
    "from jetbot import Robot\n",
    "\n",
    "robot = Robot()\n",
    "RGB = Programing_RGB()\n",
    "\n",
    "try:\n",
    "    camera = Camera.instance(width = 224, height = 224)\n",
    "    image = widgets.Image(format='jpeg', width =224, height =224)\n",
    "    display(image)\n",
    "    camera_link = traitlets.dlink((camera, 'value'), (image, 'value'), transform= bgr8_to_jpeg)\n",
    "    \n",
    "    RGB.Set_An_RGB(0, 0xFF, 0xFF, 0xFF) #white\n",
    "    time.sleep(0.5)\n",
    "    RGB.Set_All_RGB(0xFF, 0x00, 0x00) #red\n",
    "    time.sleep(0.5)\n",
    "    RGB.Set_All_RGB(0x00, 0xFF, 0x00) #blue\n",
    "    time.sleep(0.5)\n",
    "    RGB.Set_All_RGB(0x00, 0x00, 0xFF) #green\n",
    "    time.sleep(0.5)\n",
    "    \n",
    "    while True:\n",
    "        key = input(f'Forward : w, Right : d, Left : a, Back : s, Stop : x')\n",
    "        key = key.lower()\n",
    "        print(f'{key} Pressed ... ')\n",
    "        \n",
    "        if key == 'w':\n",
    "            RGB.Set_WaterfallLight_RGB()\n",
    "            robot.forward(0.5)#Jetbot Robot car advance\n",
    "            time.sleep(1)\n",
    "            robot.stop()\n",
    "        elif key == 'a':\n",
    "            RGB.Set_ChameleonLight_RGB()\n",
    "            robot.left(0.5)#Jetbot turn left\n",
    "            time.sleep(1)\n",
    "            robot.stop()\n",
    "        elif key == 'd':\n",
    "            RGB.Set_BreathColor_RGB()\n",
    "            robot.right(0.5)#Jetbot turn right\n",
    "            time.sleep(1)\n",
    "            robot.stop()\n",
    "        elif key == 's':\n",
    "            RGB.OFF_ALL_RGB()\n",
    "            robot.backward(0.5)#Jetbot Robot car back\n",
    "            time.sleep(1)\n",
    "            robot.stop()\n",
    "        elif key == 'x':\n",
    "            robot.stop()\n",
    "            \n",
    "except:\n",
    "    RGB.OFF_ALL_RGB()"
   ]
  },
  {
   "cell_type": "markdown",
   "metadata": {},
   "source": []
  }
 ],
 "metadata": {
  "kernelspec": {
   "display_name": "Python 3",
   "language": "python",
   "name": "python3"
  },
  "language_info": {
   "codemirror_mode": {
    "name": "ipython",
    "version": 3
   },
   "file_extension": ".py",
   "mimetype": "text/x-python",
   "name": "python",
   "nbconvert_exporter": "python",
   "pygments_lexer": "ipython3",
   "version": "3.6.9"
  }
 },
 "nbformat": 4,
 "nbformat_minor": 4
}
